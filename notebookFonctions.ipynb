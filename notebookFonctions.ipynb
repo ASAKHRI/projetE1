{
 "cells": [
  {
   "cell_type": "code",
   "execution_count": 6,
   "metadata": {},
   "outputs": [],
   "source": [
    "import pandas as pd\n",
    "import numpy as np\n",
    "import matplotlib.pyplot as plt\n",
    "\n",
    "# preprocessing\n",
    "from sklearn.preprocessing import LabelEncoder"
   ]
  },
  {
   "cell_type": "code",
   "execution_count": 7,
   "metadata": {},
   "outputs": [],
   "source": [
    "# importer un csv a partir d'un repertoire\n",
    "def importCsv(file_name:str) -> pd.DataFrame:\n",
    "    df = pd.read_csv(f'data/{file_name}.csv')\n",
    "    return df"
   ]
  },
  {
   "cell_type": "code",
   "execution_count": 8,
   "metadata": {},
   "outputs": [],
   "source": [
    "# voir les colonnes differentes d'un dataframe a un autre\n",
    "def diffCols(df1, df2):\n",
    "    colonnes_diff = []\n",
    "    if set(df1.columns) != set(df2.columns):\n",
    "        colonnes_diff.extend(list(set(df1.columns) - set(df2.columns)))\n",
    "        colonnes_diff.extend(list(set(df2.columns) - set(df1.columns)))\n",
    "    else:\n",
    "        for colonne in df1.columns:\n",
    "            if not df1[colonne].equals(df2[colonne]):\n",
    "                colonnes_diff.append(colonne)\n",
    "    return colonnes_diff"
   ]
  },
  {
   "cell_type": "markdown",
   "metadata": {},
   "source": [
    "EDA/CLEANING"
   ]
  },
  {
   "cell_type": "code",
   "execution_count": 9,
   "metadata": {},
   "outputs": [],
   "source": [
    "# supprime les colonnes avec un certain pourcentage de données manquantes\n",
    "def nettoyageCol(df,seuil):\n",
    "\n",
    "    nb_valeurs_manquantes = df.isnull().sum()\n",
    "    proportion_valeurs_manquantes = nb_valeurs_manquantes / len(df)\n",
    "    colonnes_a_supprimer = proportion_valeurs_manquantes[proportion_valeurs_manquantes > seuil].index\n",
    "    df_sans_colonnes_manquantes = df.drop(columns=colonnes_a_supprimer)\n",
    "\n",
    "    return df_sans_colonnes_manquantes"
   ]
  },
  {
   "cell_type": "code",
   "execution_count": 10,
   "metadata": {},
   "outputs": [],
   "source": [
    "\n",
    "#affiche les colonnes qu'il y a en commun\n",
    "def colCommunes(df1:pd.DataFrame,df2:pd.DataFrame)->pd.DataFrame:\n",
    "    colonnes_df1 = set(df1.columns)\n",
    "    colonnes_df2 = set(df2.columns)\n",
    "\n",
    "    colonnes_identiques = colonnes_df1.intersection(colonnes_df2)\n",
    "\n",
    "    # Convertissez l'ensemble en liste si nécessaire\n",
    "    colonnes_identiques_liste = list(colonnes_identiques)\n",
    "    print(\"Colonnes identiques :\", colonnes_identiques_liste)"
   ]
  },
  {
   "cell_type": "markdown",
   "metadata": {},
   "source": [
    "# Preprocessing"
   ]
  },
  {
   "cell_type": "code",
   "execution_count": null,
   "metadata": {},
   "outputs": [],
   "source": [
    "# encodes les colonnes ou il n'ya que 2 classes\n",
    "def label_encoder(df):\n",
    "    le_count = 0  # Initialisation du compteur de colonnes encodées\n",
    "\n",
    "    # Création d'un objet LabelEncoder\n",
    "    le = LabelEncoder()\n",
    "\n",
    "    # Itération à travers les colonnes du DataFrame\n",
    "    for col in df.columns:\n",
    "        if df[col].dtype == 'object':  # Vérification si la colonne est de type 'object' (catégorielle)\n",
    "            if len(df[col].unique()) <= 2:  # Si la colonne a 2 catégories ou moins\n",
    "                # Entraînement sur les données d'entraînement\n",
    "                le.fit(df[col])\n",
    "                # Transformation des données d'entraînement\n",
    "                df[col] = le.transform(df[col])\n",
    "                # Incrément du compteur de colonnes encodées\n",
    "                le_count += 1\n",
    "\n",
    "    print('%d colonnes ont été label encodées.' % le_count)\n",
    "    return df"
   ]
  }
 ],
 "metadata": {
  "kernelspec": {
   "display_name": "e2",
   "language": "python",
   "name": "python3"
  },
  "language_info": {
   "codemirror_mode": {
    "name": "ipython",
    "version": 3
   },
   "file_extension": ".py",
   "mimetype": "text/x-python",
   "name": "python",
   "nbconvert_exporter": "python",
   "pygments_lexer": "ipython3",
   "version": "3.8.12"
  }
 },
 "nbformat": 4,
 "nbformat_minor": 2
}
